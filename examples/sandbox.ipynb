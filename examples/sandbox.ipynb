{
 "cells": [
  {
   "cell_type": "code",
   "execution_count": 1,
   "id": "f92a99e4-520b-485e-ac58-1c31a8c51789",
   "metadata": {},
   "outputs": [],
   "source": [
    "import gc\n",
    "import importlib\n",
    "import logging\n",
    "import pathlib\n",
    "import sys\n",
    "import time\n",
    "\n",
    "import gym\n",
    "\n",
    "ROOT = pathlib.Path.cwd().parent\n",
    "sys.path.append(str(ROOT))\n",
    "import drl.agents as agents\n",
    "import drl.envs as envs\n",
    "import drl.experiments as experiments\n",
    "import drl.policies as policies\n",
    "\n",
    "logging.basicConfig(\n",
    "    level=logging.INFO,\n",
    "    format='%(asctime)s: %(message)s',\n",
    "    datefmt='%H:%M:%S',\n",
    ")"
   ]
  },
  {
   "cell_type": "code",
   "execution_count": 10,
   "id": "5964f453-745f-4851-beb7-ac0f843dce69",
   "metadata": {},
   "outputs": [],
   "source": [
    "env_fn = lambda: gym.make('LunarLander-v2')\n",
    "mp_env = envs.MultiprocessVectorEnv(env_fn, 16)\n",
    "\n",
    "agent = agents.DQAgent(env_fn=env_fn, device='cpu')"
   ]
  },
  {
   "cell_type": "code",
   "execution_count": 17,
   "id": "b9b2064c-aec8-4cab-8c8a-ba693c1ecbd0",
   "metadata": {},
   "outputs": [
    {
     "name": "stdout",
     "output_type": "stream",
     "text": [
      "56.65979389200004\n"
     ]
    }
   ],
   "source": [
    "t0 = time.perf_counter()\n",
    "experiments.evaluate_agent(agent, env_fn, num_steps=100_000)\n",
    "print(time.perf_counter() - t0)\n",
    "# 57.2s on 1 env"
   ]
  },
  {
   "cell_type": "code",
   "execution_count": 18,
   "id": "5f2ef801-a429-433a-aeff-262a4dda15b4",
   "metadata": {},
   "outputs": [
    {
     "name": "stdout",
     "output_type": "stream",
     "text": [
      "15.615259636000019\n"
     ]
    }
   ],
   "source": [
    "t0 = time.perf_counter()\n",
    "experiments.evaluate_agent(agent, env_fn, num_envs=32, num_steps=100_000)\n",
    "print(time.perf_counter() - t0)\n",
    "# 29.2s on 8  envs\n",
    "# 18.4s on 16 envs\n",
    "# 15.6s on 32 envs"
   ]
  },
  {
   "cell_type": "code",
   "execution_count": 14,
   "id": "39de29cc-2fb4-4e81-a9d9-c6a62ba196ce",
   "metadata": {},
   "outputs": [
    {
     "name": "stdout",
     "output_type": "stream",
     "text": [
      "19.183021768999993\n"
     ]
    }
   ],
   "source": [
    "t0 = time.perf_counter()\n",
    "experiments.evaluate_agent(agent, mp_env, num_steps=100_000)\n",
    "print(time.perf_counter() - t0)\n",
    "# 24.2s on 8  envs\n",
    "# 19.4s on 16 envs"
   ]
  },
  {
   "cell_type": "code",
   "execution_count": null,
   "id": "d72d5750-7754-41c5-83c1-dba2f4fb2e9a",
   "metadata": {},
   "outputs": [],
   "source": [
    "mp_env.close()"
   ]
  },
  {
   "cell_type": "code",
   "execution_count": null,
   "id": "5d117743-45ea-4a54-a65c-a82241e298e5",
   "metadata": {},
   "outputs": [
    {
     "name": "stderr",
     "output_type": "stream",
     "text": [
      "17:32:29: Starting training procedure from scratch.\n",
      "17:34:03: env_step 20k  e=70  train_score=-265.4   eval_score=-121.6   frames=218  time_taken=75.3\n",
      "17:35:48: env_step 40k  e=96  train_score=-214.4   eval_score=-40.9   frames=397  time_taken=88.2\n",
      "17:37:25: env_step 60k  e=123  train_score=-110.3   eval_score=-115.2   frames=528  time_taken=80.1\n",
      "17:39:07: env_step 80k  e=145  train_score=-72.7   eval_score=-59.7   frames=683  time_taken=83.6\n",
      "17:40:53: env_step 100k  e=176  train_score=-37.1   eval_score=3.7   frames=771  time_taken=86.6\n",
      "17:42:32: env_step 120k  e=207  train_score=-20.5   eval_score=26.8   frames=734  time_taken=83.7\n",
      "17:44:05: env_step 140k  e=258  train_score=70.3   eval_score=163.1   frames=518  time_taken=80.6\n",
      "17:45:36: env_step 160k  e=324  train_score=157.3   eval_score=198.3   frames=328  time_taken=80.6\n",
      "17:47:09: env_step 180k  e=391  train_score=151.7   eval_score=96.2   frames=304  time_taken=81.1\n",
      "17:48:43: env_step 200k  e=448  train_score=174.9   eval_score=116.0   frames=326  time_taken=80.4\n",
      "17:50:17: env_step 220k  e=488  train_score=196.8   eval_score=127.1   frames=416  time_taken=81.4\n",
      "17:51:49: env_step 240k  e=519  train_score=188.0   eval_score=175.1   frames=474  time_taken=81.1\n",
      "17:53:23: env_step 260k  e=556  train_score=181.4   eval_score=135.8   frames=559  time_taken=81.3\n",
      "17:54:56: env_step 280k  e=579  train_score=161.4   eval_score=149.5   frames=635  time_taken=80.8\n",
      "17:56:27: env_step 300k  e=602  train_score=152.6   eval_score=167.1   frames=738  time_taken=81.0\n",
      "17:58:02: env_step 320k  e=622  train_score=146.0   eval_score=116.8   frames=769  time_taken=81.3\n",
      "17:59:36: env_step 340k  e=649  train_score=129.6   eval_score=104.8   frames=870  time_taken=80.9\n",
      "18:01:07: env_step 360k  e=674  train_score=123.6   eval_score=214.4   frames=813  time_taken=80.8\n",
      "18:02:41: env_step 380k  e=698  train_score=127.8   eval_score=134.5   frames=833  time_taken=80.9\n",
      "18:04:14: env_step 400k  e=722  train_score=129.7   eval_score=136.3   frames=824  time_taken=82.0\n",
      "18:05:44: env_step 420k  e=744  train_score=132.0   eval_score=41.3   frames=824  time_taken=80.1\n",
      "18:07:18: env_step 440k  e=775  train_score=135.6   eval_score=134.7   frames=821  time_taken=80.5\n",
      "18:08:49: env_step 460k  e=797  train_score=131.5   eval_score=121.1   frames=799  time_taken=80.3\n",
      "18:10:22: env_step 480k  e=823  train_score=124.0   eval_score=129.0   frames=784  time_taken=80.7\n",
      "18:11:54: env_step 500k  e=846  train_score=123.4   eval_score=124.7   frames=799  time_taken=80.7\n",
      "18:13:29: env_step 520k  e=872  train_score=118.1   eval_score=140.3   frames=801  time_taken=81.1\n",
      "18:15:07: env_step 540k  e=897  train_score=123.2   eval_score=121.7   frames=802  time_taken=81.6\n",
      "18:16:41: env_step 560k  e=927  train_score=111.8   eval_score=79.9   frames=768  time_taken=81.8\n",
      "18:18:16: env_step 580k  e=954  train_score=104.1   eval_score=98.3   frames=743  time_taken=82.1\n",
      "18:19:50: env_step 600k  e=983  train_score=97.4   eval_score=97.8   frames=704  time_taken=82.3\n",
      "18:21:24: env_step 620k  e=1010  train_score=99.4   eval_score=33.2   frames=710  time_taken=83.6\n",
      "18:22:58: env_step 640k  e=1038  train_score=102.9   eval_score=5.4   frames=721  time_taken=84.0\n",
      "18:24:42: env_step 660k  e=1073  train_score=81.0   eval_score=-121.7   frames=647  time_taken=84.8\n",
      "18:26:20: env_step 680k  e=1101  train_score=78.7   eval_score=30.2   frames=663  time_taken=86.3\n",
      "18:28:00: env_step 700k  e=1135  train_score=61.1   eval_score=110.1   frames=611  time_taken=87.7\n",
      "18:29:38: env_step 720k  e=1168  train_score=78.4   eval_score=208.2   frames=657  time_taken=87.7\n",
      "18:31:20: env_step 740k  e=1196  train_score=74.4   eval_score=119.8   frames=619  time_taken=88.6\n",
      "18:33:05: env_step 760k  e=1234  train_score=77.1   eval_score=48.9   frames=614  time_taken=93.8\n",
      "18:34:52: env_step 780k  e=1257  train_score=81.1   eval_score=93.3   frames=666  time_taken=94.0\n",
      "18:36:37: env_step 800k  e=1283  train_score=77.4   eval_score=-69.6   frames=674  time_taken=91.5\n",
      "18:38:22: env_step 820k  e=1304  train_score=93.7   eval_score=129.4   frames=775  time_taken=93.2\n",
      "18:40:07: env_step 840k  e=1325  train_score=111.3   eval_score=117.3   frames=843  time_taken=94.7\n",
      "18:42:00: env_step 860k  e=1348  train_score=122.2   eval_score=29.6   frames=882  time_taken=95.4\n",
      "18:43:56: env_step 880k  e=1374  train_score=125.3   eval_score=-56.6   frames=888  time_taken=98.2\n",
      "18:45:46: env_step 900k  e=1406  train_score=115.0   eval_score=137.0   frames=782  time_taken=97.7\n",
      "18:47:46: env_step 920k  e=1430  train_score=108.2   eval_score=-39.1   frames=763  time_taken=97.7\n",
      "18:49:39: env_step 940k  e=1452  train_score=105.7   eval_score=115.7   frames=764  time_taken=99.5\n",
      "18:51:33: env_step 960k  e=1472  train_score=107.7   eval_score=97.1   frames=803  time_taken=97.8\n",
      "18:53:29: env_step 980k  e=1502  train_score=105.7   eval_score=-137.6   frames=839  time_taken=101.7\n",
      "18:55:25: env_step 1000k  e=1525  train_score=109.8   eval_score=83.5   frames=844  time_taken=101.3\n",
      "18:57:20: env_step 1020k  e=1552  train_score=98.8   eval_score=118.7   frames=795  time_taken=105.0\n",
      "18:59:21: env_step 1040k  e=1581  train_score=86.2   eval_score=40.8   frames=735  time_taken=105.8\n",
      "19:01:17: env_step 1060k  e=1601  train_score=100.5   eval_score=56.3   frames=794  time_taken=104.1\n",
      "19:03:13: env_step 1080k  e=1629  train_score=102.7   eval_score=153.3   frames=778  time_taken=105.0\n",
      "19:05:14: env_step 1100k  e=1653  train_score=112.1   eval_score=127.5   frames=801  time_taken=108.5\n",
      "19:07:17: env_step 1120k  e=1676  train_score=122.0   eval_score=120.0   frames=839  time_taken=111.1\n",
      "19:09:19: env_step 1140k  e=1696  train_score=122.8   eval_score=109.5   frames=835  time_taken=111.5\n",
      "19:11:23: env_step 1160k  e=1720  train_score=129.2   eval_score=107.0   frames=858  time_taken=109.7\n",
      "19:13:28: env_step 1180k  e=1750  train_score=125.1   eval_score=35.9   frames=832  time_taken=114.1\n",
      "19:15:37: env_step 1200k  e=1778  train_score=113.8   eval_score=134.5   frames=775  time_taken=118.8\n",
      "19:17:51: env_step 1220k  e=1804  train_score=106.1   eval_score=117.7   frames=731  time_taken=118.7\n",
      "19:20:03: env_step 1240k  e=1834  train_score=95.6   eval_score=149.8   frames=676  time_taken=118.9\n",
      "19:22:24: env_step 1260k  e=1860  train_score=106.0   eval_score=-35.8   frames=760  time_taken=122.0\n",
      "19:24:44: env_step 1280k  e=1886  train_score=99.0   eval_score=50.7   frames=722  time_taken=127.0\n",
      "19:26:58: env_step 1300k  e=1925  train_score=78.5   eval_score=46.5   frames=668  time_taken=124.4\n",
      "19:29:14: env_step 1320k  e=1961  train_score=55.0   eval_score=75.2   frames=588  time_taken=123.9\n",
      "19:31:37: env_step 1340k  e=1982  train_score=50.3   eval_score=-2.8   frames=620  time_taken=128.5\n",
      "19:33:58: env_step 1360k  e=2011  train_score=71.1   eval_score=65.9   frames=693  time_taken=128.5\n",
      "19:36:26: env_step 1380k  e=2033  train_score=92.5   eval_score=127.2   frames=747  time_taken=135.3\n",
      "19:38:59: env_step 1400k  e=2058  train_score=106.2   eval_score=55.6   frames=827  time_taken=138.7\n",
      "19:41:27: env_step 1420k  e=2088  train_score=91.2   eval_score=122.1   frames=753  time_taken=136.0\n",
      "19:44:00: env_step 1440k  e=2118  train_score=81.8   eval_score=47.6   frames=738  time_taken=139.5\n",
      "19:46:24: env_step 1460k  e=2142  train_score=83.0   eval_score=20.4   frames=734  time_taken=130.3\n",
      "19:48:45: env_step 1480k  e=2165  train_score=86.6   eval_score=-185.9   frames=727  time_taken=129.3\n",
      "19:51:06: env_step 1500k  e=2188  train_score=110.5   eval_score=67.8   frames=810  time_taken=129.9\n",
      "19:53:45: env_step 1520k  e=2207  train_score=123.4   eval_score=-472.5   frames=851  time_taken=139.2\n",
      "19:56:15: env_step 1540k  e=2234  train_score=128.9   eval_score=23.1   frames=868  time_taken=138.4\n",
      "19:58:48: env_step 1560k  e=2279  train_score=95.6   eval_score=-137.7   frames=682  time_taken=138.6\n",
      "20:01:25: env_step 1580k  e=2305  train_score=88.5   eval_score=188.6   frames=637  time_taken=146.1\n",
      "20:03:54: env_step 1600k  e=2333  train_score=89.9   eval_score=101.1   frames=621  time_taken=136.9\n"
     ]
    }
   ],
   "source": [
    "env_fn = lambda: gym.make('LunarLander-v2')\n",
    "env = env_fn()\n",
    "\n",
    "agent = agents.DQAgent(\n",
    "    observation_space=env.observation_space,\n",
    "    action_space=env.action_space,\n",
    "\n",
    "    noisy=True, noisy_use_factorized=False, parametrize=False,\n",
    "    behaviour_policy=policies.BoltzmannPolicy(0.01),\n",
    "    target_policy=policies.BoltzmannPolicy(0.01),\n",
    "\n",
    "    mem_size=500_000, min_history=1_000, batch_size=64,\n",
    "    lr=1e-3, gamma=0.99, n_steps=1, replace_target=100,\n",
    "\n",
    "    device='cpu',\n",
    "    fname='DQAgent_model.h5',\n",
    ")\n",
    "trainer = experiments.Trainer(\n",
    "    agent, env_fn,\n",
    "    samples_per_update=1,\n",
    "    metrics='all',\n",
    "    log_dir=pathlib.Path(ROOT).joinpath(\n",
    "        'logs/LunarLander/Adam_lr=1e-3'),\n",
    "    num_envs=8,\n",
    "    multiprocessing=True\n",
    ")\n",
    "trainer.train(\n",
    "    num_steps=10_000_000, eval_freq=20_000, eval_steps=40_000,\n",
    "    plot=False, to_csv=True\n",
    ")"
   ]
  },
  {
   "cell_type": "code",
   "execution_count": null,
   "id": "480b5abe-8fad-46b6-a708-87b2dfb02269",
   "metadata": {},
   "outputs": [],
   "source": [
    "del trainer"
   ]
  },
  {
   "cell_type": "code",
   "execution_count": 8,
   "id": "c0ea1529-59eb-47d5-ba14-10fcac8fe4ad",
   "metadata": {},
   "outputs": [
    {
     "data": {
      "text/plain": [
       "0"
      ]
     },
     "execution_count": 8,
     "metadata": {},
     "output_type": "execute_result"
    }
   ],
   "source": [
    "gc.collect()"
   ]
  }
 ],
 "metadata": {
  "kernelspec": {
   "display_name": "Python 3 (ipykernel)",
   "language": "python",
   "name": "python3"
  },
  "language_info": {
   "codemirror_mode": {
    "name": "ipython",
    "version": 3
   },
   "file_extension": ".py",
   "mimetype": "text/x-python",
   "name": "python",
   "nbconvert_exporter": "python",
   "pygments_lexer": "ipython3",
   "version": "3.8.12"
  }
 },
 "nbformat": 4,
 "nbformat_minor": 5
}
