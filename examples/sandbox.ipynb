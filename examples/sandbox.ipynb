{
 "cells": [
  {
   "cell_type": "code",
   "execution_count": 1,
   "id": "f92a99e4-520b-485e-ac58-1c31a8c51789",
   "metadata": {},
   "outputs": [],
   "source": [
    "import gc\n",
    "import importlib\n",
    "import logging\n",
    "import pathlib\n",
    "import sys\n",
    "import time\n",
    "\n",
    "import gym\n",
    "\n",
    "ROOT = pathlib.Path.cwd().parent\n",
    "sys.path.append(str(ROOT))\n",
    "import drl.agents as agents\n",
    "import drl.experiments as experiments\n",
    "import drl.policies as policies\n",
    "\n",
    "logging.basicConfig(\n",
    "    level=logging.INFO,\n",
    "    format='%(asctime)s: %(message)s',\n",
    "    datefmt='%H:%M:%S',\n",
    ")"
   ]
  },
  {
   "cell_type": "code",
   "execution_count": 2,
   "id": "5964f453-745f-4851-beb7-ac0f843dce69",
   "metadata": {},
   "outputs": [],
   "source": [
    "env_fn = lambda: gym.make('LunarLander-v2')\n",
    "\n",
    "agent = agents.DQAgent(env_fn=env_fn, device='cpu')"
   ]
  },
  {
   "cell_type": "code",
   "execution_count": 3,
   "id": "b9b2064c-aec8-4cab-8c8a-ba693c1ecbd0",
   "metadata": {},
   "outputs": [
    {
     "name": "stdout",
     "output_type": "stream",
     "text": [
      "45.744778701\n"
     ]
    }
   ],
   "source": [
    "env = env_fn()\n",
    "t0 = time.perf_counter()\n",
    "experiments.evaluate_agent(agent, env, num_steps=100_000)\n",
    "print(time.perf_counter() - t0)\n",
    "# 57.2s on 1 env"
   ]
  },
  {
   "cell_type": "code",
   "execution_count": 4,
   "id": "5f2ef801-a429-433a-aeff-262a4dda15b4",
   "metadata": {},
   "outputs": [
    {
     "name": "stdout",
     "output_type": "stream",
     "text": [
      "6.519028534\n"
     ]
    }
   ],
   "source": [
    "env = gy.vector.SyncVectorEnv([env_fn] * 32)\n",
    "t0 = time.perf_counter()\n",
    "experiments.evaluate_agent(agent, env, num_steps=100_000)\n",
    "print(time.perf_counter() - t0)\n",
    "env.close()\n",
    "# 29.2s on 8  envs\n",
    "# 18.4s on 16 envs\n",
    "# 15.6s on 32 envs"
   ]
  },
  {
   "cell_type": "code",
   "execution_count": 5,
   "id": "39de29cc-2fb4-4e81-a9d9-c6a62ba196ce",
   "metadata": {},
   "outputs": [
    {
     "name": "stdout",
     "output_type": "stream",
     "text": [
      "14.129570392999995\n"
     ]
    }
   ],
   "source": [
    "mp_env = gym.vector.AsyncVectorEnv([env_fn] * 8)\n",
    "t0 = time.perf_counter()\n",
    "experiments.evaluate_agent(agent, mp_env, num_steps=100_000)\n",
    "print(time.perf_counter() - t0)\n",
    "mp_env.close()\n",
    "# 24.2s on 8  envs\n",
    "# 19.4s on 16 envs"
   ]
  },
  {
   "cell_type": "code",
   "execution_count": 6,
   "id": "d72d5750-7754-41c5-83c1-dba2f4fb2e9a",
   "metadata": {},
   "outputs": [],
   "source": [
    "mp_env.close()"
   ]
  },
  {
   "cell_type": "code",
   "execution_count": 7,
   "id": "5d117743-45ea-4a54-a65c-a82241e298e5",
   "metadata": {},
   "outputs": [
    {
     "name": "stderr",
     "output_type": "stream",
     "text": [
      "16:05:20: Starting training procedure from scratch.\n",
      "16:06:46: env_step 20k  e=141  train_score=-233.3   eval_score=-235.9   frames=159  time_taken=73.2\n",
      "16:08:30: env_step 40k  e=210  train_score=-207.8   eval_score=-187.2   frames=247  time_taken=89.6\n",
      "16:10:04: env_step 60k  e=247  train_score=-205.1   eval_score=-209.6   frames=363  time_taken=77.5\n",
      "16:11:54: env_step 80k  e=267  train_score=-195.0   eval_score=-164.7   frames=500  time_taken=92.7\n",
      "16:13:31: env_step 100k  e=287  train_score=-185.5   eval_score=-124.9   frames=649  time_taken=80.2\n",
      "16:15:11: env_step 120k  e=308  train_score=-175.1   eval_score=-148.0   frames=782  time_taken=80.9\n",
      "16:16:48: env_step 140k  e=328  train_score=-166.1   eval_score=-121.6   frames=877  time_taken=80.2\n",
      "16:18:32: env_step 160k  e=350  train_score=-156.1   eval_score=-164.0   frames=975  time_taken=85.9\n",
      "16:20:19: env_step 180k  e=368  train_score=-152.8   eval_score=-134.0   frames=977  time_taken=85.8\n",
      "16:22:05: env_step 200k  e=390  train_score=-147.8   eval_score=-103.3   frames=977  time_taken=85.9\n",
      "16:23:50: env_step 220k  e=408  train_score=-142.5   eval_score=-105.4   frames=984  time_taken=85.5\n",
      "16:25:35: env_step 240k  e=430  train_score=-134.3   eval_score=-124.1   frames=992  time_taken=85.9\n",
      "16:27:19: env_step 260k  e=449  train_score=-126.8   eval_score=-85.6   frames=994  time_taken=85.3\n",
      "16:29:03: env_step 280k  e=471  train_score=-116.2   eval_score=-123.0   frames=983  time_taken=84.9\n",
      "16:30:46: env_step 300k  e=494  train_score=-110.1   eval_score=-91.7   frames=961  time_taken=84.3\n",
      "16:32:28: env_step 320k  e=517  train_score=-109.0   eval_score=-114.1   frames=936  time_taken=85.1\n",
      "16:34:13: env_step 340k  e=539  train_score=-101.1   eval_score=-52.2   frames=919  time_taken=85.0\n",
      "16:35:58: env_step 360k  e=559  train_score=-92.6   eval_score=-70.2   frames=928  time_taken=85.5\n",
      "16:37:41: env_step 380k  e=579  train_score=-90.9   eval_score=-52.9   frames=933  time_taken=84.9\n",
      "16:39:18: env_step 400k  e=599  train_score=-82.2   eval_score=-52.5   frames=968  time_taken=79.9\n",
      "16:40:55: env_step 420k  e=619  train_score=-69.1   eval_score=-34.1   frames=982  time_taken=80.1\n",
      "16:42:32: env_step 440k  e=639  train_score=-60.1   eval_score=-41.4   frames=994  time_taken=79.5\n",
      "16:44:09: env_step 460k  e=659  train_score=-54.6   eval_score=-35.3   frames=999  time_taken=79.8\n",
      "16:45:46: env_step 480k  e=679  train_score=-46.0   eval_score=-42.5   frames=1000  time_taken=79.7\n",
      "16:47:23: env_step 500k  e=699  train_score=-39.7   eval_score=-47.2   frames=1000  time_taken=80.0\n",
      "16:49:00: env_step 520k  e=719  train_score=-32.5   eval_score=-7.7   frames=1000  time_taken=80.5\n",
      "16:50:40: env_step 540k  e=739  train_score=-26.7   eval_score=-18.2   frames=1000  time_taken=81.3\n",
      "16:52:16: env_step 560k  e=759  train_score=-21.8   eval_score=-18.3   frames=1000  time_taken=78.7\n",
      "16:53:53: env_step 580k  e=780  train_score=-21.1   eval_score=-20.9   frames=996  time_taken=79.8\n",
      "16:55:28: env_step 600k  e=799  train_score=-23.9   eval_score=-41.1   frames=996  time_taken=78.4\n",
      "16:57:05: env_step 620k  e=820  train_score=-30.2   eval_score=-48.4   frames=996  time_taken=79.9\n",
      "16:58:53: env_step 640k  e=839  train_score=-36.2   eval_score=-35.2   frames=996  time_taken=87.2\n",
      "17:00:42: env_step 660k  e=860  train_score=-42.6   eval_score=-22.4   frames=996  time_taken=89.7\n",
      "17:02:26: env_step 680k  e=879  train_score=-42.3   eval_score=-32.8   frames=1000  time_taken=84.4\n",
      "17:04:18: env_step 700k  e=900  train_score=-39.3   eval_score=-103.5   frames=994  time_taken=91.3\n",
      "17:06:03: env_step 720k  e=922  train_score=-33.8   eval_score=-15.8   frames=980  time_taken=84.9\n",
      "17:07:42: env_step 740k  e=941  train_score=-28.6   eval_score=-26.2   frames=980  time_taken=80.9\n",
      "17:09:24: env_step 760k  e=962  train_score=-20.6   eval_score=-38.3   frames=980  time_taken=82.8\n",
      "17:11:07: env_step 780k  e=981  train_score=-17.7   eval_score=-29.1   frames=980  time_taken=82.3\n",
      "17:12:56: env_step 800k  e=1002  train_score=-13.6   eval_score=-10.7   frames=986  time_taken=88.6\n",
      "17:14:44: env_step 820k  e=1021  train_score=-14.0   eval_score=-3.3   frames=994  time_taken=86.3\n",
      "17:16:32: env_step 840k  e=1042  train_score=-8.4   eval_score=-3.8   frames=995  time_taken=87.6\n",
      "17:18:23: env_step 860k  e=1061  train_score=-4.3   eval_score=-3.7   frames=995  time_taken=87.1\n",
      "17:20:12: env_step 880k  e=1082  train_score=-4.5   eval_score=4.4   frames=995  time_taken=87.2\n",
      "17:22:00: env_step 900k  e=1101  train_score=-2.1   eval_score=0.5   frames=995  time_taken=87.3\n",
      "17:23:48: env_step 920k  e=1123  train_score=-4.5   eval_score=-5.4   frames=979  time_taken=86.5\n",
      "17:25:37: env_step 940k  e=1143  train_score=-5.3   eval_score=-6.1   frames=983  time_taken=87.4\n",
      "17:27:24: env_step 960k  e=1163  train_score=-5.5   eval_score=2.4   frames=983  time_taken=87.2\n",
      "17:29:05: env_step 980k  e=1183  train_score=-3.1   eval_score=6.2   frames=983  time_taken=83.0\n",
      "17:30:48: env_step 1000k  e=1203  train_score=-1.4   eval_score=9.6   frames=983  time_taken=84.7\n",
      "17:32:32: env_step 1020k  e=1223  train_score=6.4   eval_score=10.4   frames=1000  time_taken=85.3\n",
      "17:34:22: env_step 1040k  e=1243  train_score=7.2   eval_score=16.6   frames=1000  time_taken=90.8\n",
      "17:36:04: env_step 1060k  e=1263  train_score=7.3   eval_score=0.7   frames=1000  time_taken=82.2\n",
      "17:37:50: env_step 1080k  e=1283  train_score=7.6   eval_score=-4.4   frames=1000  time_taken=87.4\n",
      "17:39:41: env_step 1100k  e=1303  train_score=8.8   eval_score=19.7   frames=1000  time_taken=88.0\n",
      "17:41:27: env_step 1120k  e=1323  train_score=8.1   eval_score=13.6   frames=1000  time_taken=86.9\n",
      "17:43:12: env_step 1140k  e=1343  train_score=8.3   eval_score=-2.3   frames=1000  time_taken=84.3\n",
      "17:44:57: env_step 1160k  e=1363  train_score=9.3   eval_score=9.9   frames=1000  time_taken=85.8\n",
      "17:46:39: env_step 1180k  e=1384  train_score=8.2   eval_score=9.5   frames=991  time_taken=84.1\n",
      "17:48:21: env_step 1200k  e=1404  train_score=6.6   eval_score=0.7   frames=991  time_taken=81.9\n",
      "17:50:04: env_step 1220k  e=1425  train_score=6.2   eval_score=14.5   frames=983  time_taken=84.1\n",
      "17:51:47: env_step 1240k  e=1444  train_score=7.7   eval_score=-12.6   frames=975  time_taken=84.1\n",
      "17:53:34: env_step 1260k  e=1466  train_score=4.6   eval_score=-16.6   frames=975  time_taken=85.8\n",
      "17:55:17: env_step 1280k  e=1484  train_score=3.1   eval_score=4.7   frames=983  time_taken=82.8\n",
      "17:57:01: env_step 1300k  e=1506  train_score=1.9   eval_score=17.5   frames=983  time_taken=82.8\n",
      "17:58:42: env_step 1320k  e=1524  train_score=1.7   eval_score=0.8   frames=991  time_taken=81.8\n",
      "18:00:29: env_step 1340k  e=1546  train_score=3.5   eval_score=7.5   frames=1000  time_taken=84.4\n",
      "18:02:16: env_step 1360k  e=1565  train_score=4.9   eval_score=20.4   frames=985  time_taken=86.8\n",
      "18:04:05: env_step 1380k  e=1588  train_score=8.4   eval_score=9.3   frames=985  time_taken=85.1\n",
      "18:05:46: env_step 1400k  e=1605  train_score=12.3   eval_score=14.0   frames=985  time_taken=82.3\n",
      "18:07:28: env_step 1420k  e=1628  train_score=13.8   eval_score=27.5   frames=985  time_taken=81.7\n",
      "18:09:08: env_step 1440k  e=1645  train_score=14.3   eval_score=14.1   frames=985  time_taken=81.6\n",
      "18:10:48: env_step 1460k  e=1668  train_score=18.1   eval_score=19.6   frames=1000  time_taken=81.3\n",
      "18:12:38: env_step 1480k  e=1685  train_score=20.0   eval_score=2.1   frames=1000  time_taken=88.8\n",
      "18:14:29: env_step 1500k  e=1711  train_score=20.0   eval_score=15.6   frames=974  time_taken=89.6\n",
      "18:16:11: env_step 1520k  e=1729  train_score=19.2   eval_score=15.4   frames=957  time_taken=80.8\n",
      "18:17:58: env_step 1540k  e=1752  train_score=20.0   eval_score=4.4   frames=957  time_taken=85.6\n",
      "18:19:47: env_step 1560k  e=1769  train_score=19.2   eval_score=17.0   frames=957  time_taken=89.1\n",
      "18:21:30: env_step 1580k  e=1792  train_score=17.5   eval_score=24.0   frames=957  time_taken=83.8\n",
      "18:23:11: env_step 1600k  e=1809  train_score=17.6   eval_score=13.5   frames=983  time_taken=82.2\n",
      "18:25:00: env_step 1620k  e=1833  train_score=14.6   eval_score=30.4   frames=994  time_taken=89.8\n",
      "18:26:50: env_step 1640k  e=1850  train_score=16.0   eval_score=16.4   frames=986  time_taken=88.2\n",
      "18:28:40: env_step 1660k  e=1874  train_score=15.3   eval_score=27.5   frames=986  time_taken=90.0\n",
      "18:30:31: env_step 1680k  e=1890  train_score=18.9   eval_score=26.1   frames=986  time_taken=88.3\n",
      "18:32:35: env_step 1700k  e=1914  train_score=20.8   eval_score=16.5   frames=986  time_taken=97.1\n",
      "18:34:30: env_step 1720k  e=1930  train_score=24.9   eval_score=15.8   frames=991  time_taken=92.9\n",
      "18:36:37: env_step 1740k  e=1954  train_score=24.6   eval_score=23.5   frames=1000  time_taken=107.7\n",
      "18:38:26: env_step 1760k  e=1970  train_score=24.9   eval_score=24.4   frames=1000  time_taken=84.3\n",
      "18:40:26: env_step 1780k  e=1994  train_score=22.7   eval_score=23.0   frames=1000  time_taken=94.8\n",
      "18:42:16: env_step 1800k  e=2010  train_score=24.5   eval_score=11.6   frames=1000  time_taken=90.7\n",
      "18:44:03: env_step 1820k  e=2035  train_score=22.2   eval_score=20.4   frames=991  time_taken=87.0\n",
      "18:45:56: env_step 1840k  e=2051  train_score=23.8   eval_score=13.9   frames=991  time_taken=90.3\n",
      "18:47:44: env_step 1860k  e=2075  train_score=25.7   eval_score=30.8   frames=991  time_taken=88.4\n",
      "18:49:22: env_step 1880k  e=2091  train_score=26.1   eval_score=31.8   frames=991  time_taken=80.9\n",
      "18:51:11: env_step 1900k  e=2115  train_score=28.2   eval_score=25.5   frames=991  time_taken=90.0\n",
      "18:52:57: env_step 1920k  e=2131  train_score=30.2   eval_score=24.0   frames=1000  time_taken=85.9\n",
      "18:54:39: env_step 1940k  e=2155  train_score=30.7   eval_score=1.6   frames=1000  time_taken=81.2\n",
      "18:56:31: env_step 1960k  e=2171  train_score=30.0   eval_score=23.4   frames=1000  time_taken=89.3\n",
      "18:58:19: env_step 1980k  e=2195  train_score=30.2   eval_score=29.4   frames=1000  time_taken=87.0\n",
      "19:00:13: env_step 2000k  e=2212  train_score=31.1   eval_score=34.8   frames=991  time_taken=92.6\n",
      "19:02:06: env_step 2020k  e=2236  train_score=31.6   eval_score=41.6   frames=991  time_taken=93.1\n",
      "19:03:57: env_step 2040k  e=2252  train_score=32.1   eval_score=-5.9   frames=991  time_taken=88.4\n",
      "19:05:45: env_step 2060k  e=2276  train_score=34.7   eval_score=26.8   frames=991  time_taken=87.9\n",
      "19:07:30: env_step 2080k  e=2292  train_score=35.5   eval_score=6.1   frames=991  time_taken=85.5\n",
      "19:09:17: env_step 2100k  e=2316  train_score=32.1   eval_score=26.9   frames=990  time_taken=86.8\n",
      "19:11:01: env_step 2120k  e=2333  train_score=30.7   eval_score=34.4   frames=990  time_taken=85.8\n",
      "19:12:47: env_step 2140k  e=2356  train_score=31.9   eval_score=27.6   frames=990  time_taken=86.3\n",
      "19:14:33: env_step 2160k  e=2373  train_score=28.9   eval_score=27.9   frames=990  time_taken=85.8\n",
      "19:16:18: env_step 2180k  e=2396  train_score=27.2   eval_score=10.6   frames=990  time_taken=85.4\n",
      "19:18:05: env_step 2200k  e=2414  train_score=29.8   eval_score=31.8   frames=991  time_taken=86.3\n",
      "19:19:51: env_step 2220k  e=2437  train_score=30.8   eval_score=34.8   frames=991  time_taken=86.4\n",
      "19:21:35: env_step 2240k  e=2457  train_score=29.1   eval_score=36.1   frames=965  time_taken=85.1\n",
      "19:23:23: env_step 2260k  e=2479  train_score=30.8   eval_score=26.3   frames=956  time_taken=86.8\n",
      "19:25:09: env_step 2280k  e=2498  train_score=33.5   eval_score=26.3   frames=956  time_taken=86.1\n",
      "19:26:57: env_step 2300k  e=2519  train_score=33.2   eval_score=30.3   frames=964  time_taken=86.5\n",
      "19:28:44: env_step 2320k  e=2538  train_score=31.8   eval_score=27.2   frames=964  time_taken=87.0\n",
      "19:30:32: env_step 2340k  e=2559  train_score=33.2   eval_score=31.0   frames=990  time_taken=88.0\n",
      "19:32:19: env_step 2360k  e=2579  train_score=30.8   eval_score=30.1   frames=992  time_taken=86.8\n",
      "19:34:06: env_step 2380k  e=2599  train_score=27.7   eval_score=32.1   frames=992  time_taken=87.4\n",
      "19:35:54: env_step 2400k  e=2619  train_score=29.8   eval_score=32.8   frames=992  time_taken=88.0\n",
      "19:37:41: env_step 2420k  e=2639  train_score=29.8   eval_score=22.6   frames=992  time_taken=88.0\n",
      "19:39:28: env_step 2440k  e=2659  train_score=30.5   eval_score=27.2   frames=992  time_taken=87.3\n",
      "19:41:15: env_step 2460k  e=2679  train_score=32.3   eval_score=32.8   frames=1000  time_taken=87.5\n",
      "19:43:02: env_step 2480k  e=2700  train_score=33.6   eval_score=30.5   frames=991  time_taken=86.8\n",
      "19:44:50: env_step 2500k  e=2720  train_score=31.5   eval_score=33.0   frames=991  time_taken=87.6\n",
      "19:46:38: env_step 2520k  e=2740  train_score=30.8   eval_score=32.0   frames=991  time_taken=87.4\n"
     ]
    },
    {
     "ename": "KeyboardInterrupt",
     "evalue": "",
     "output_type": "error",
     "traceback": [
      "\u001b[0;31m---------------------------------------------------------------------------\u001b[0m",
      "\u001b[0;31mKeyboardInterrupt\u001b[0m                         Traceback (most recent call last)",
      "Input \u001b[0;32mIn [7]\u001b[0m, in \u001b[0;36m<cell line: 27>\u001b[0;34m()\u001b[0m\n\u001b[1;32m      4\u001b[0m agent \u001b[38;5;241m=\u001b[39m agents\u001b[38;5;241m.\u001b[39mDQAgent(\n\u001b[1;32m      5\u001b[0m     observation_space\u001b[38;5;241m=\u001b[39menv\u001b[38;5;241m.\u001b[39mobservation_space,\n\u001b[1;32m      6\u001b[0m     action_space\u001b[38;5;241m=\u001b[39menv\u001b[38;5;241m.\u001b[39maction_space,\n\u001b[0;32m   (...)\u001b[0m\n\u001b[1;32m     16\u001b[0m     fname\u001b[38;5;241m=\u001b[39m\u001b[38;5;124m'\u001b[39m\u001b[38;5;124mDQAgent_model.h5\u001b[39m\u001b[38;5;124m'\u001b[39m,\n\u001b[1;32m     17\u001b[0m )\n\u001b[1;32m     18\u001b[0m trainer \u001b[38;5;241m=\u001b[39m experiments\u001b[38;5;241m.\u001b[39mTrainer(\n\u001b[1;32m     19\u001b[0m     agent, env_fn,\n\u001b[1;32m     20\u001b[0m     samples_per_update\u001b[38;5;241m=\u001b[39m\u001b[38;5;241m1\u001b[39m,\n\u001b[0;32m   (...)\u001b[0m\n\u001b[1;32m     25\u001b[0m     multiprocessing\u001b[38;5;241m=\u001b[39m\u001b[38;5;28;01mTrue\u001b[39;00m\n\u001b[1;32m     26\u001b[0m )\n\u001b[0;32m---> 27\u001b[0m \u001b[43mtrainer\u001b[49m\u001b[38;5;241;43m.\u001b[39;49m\u001b[43mtrain\u001b[49m\u001b[43m(\u001b[49m\n\u001b[1;32m     28\u001b[0m \u001b[43m    \u001b[49m\u001b[43mnum_steps\u001b[49m\u001b[38;5;241;43m=\u001b[39;49m\u001b[38;5;241;43m10_000_000\u001b[39;49m\u001b[43m,\u001b[49m\u001b[43m \u001b[49m\u001b[43meval_freq\u001b[49m\u001b[38;5;241;43m=\u001b[39;49m\u001b[38;5;241;43m20_000\u001b[39;49m\u001b[43m,\u001b[49m\u001b[43m \u001b[49m\u001b[43meval_steps\u001b[49m\u001b[38;5;241;43m=\u001b[39;49m\u001b[38;5;241;43m40_000\u001b[39;49m\u001b[43m,\u001b[49m\n\u001b[1;32m     29\u001b[0m \u001b[43m    \u001b[49m\u001b[43mplot\u001b[49m\u001b[38;5;241;43m=\u001b[39;49m\u001b[38;5;28;43;01mFalse\u001b[39;49;00m\u001b[43m,\u001b[49m\u001b[43m \u001b[49m\u001b[43mto_csv\u001b[49m\u001b[38;5;241;43m=\u001b[39;49m\u001b[38;5;28;43;01mTrue\u001b[39;49;00m\n\u001b[1;32m     30\u001b[0m \u001b[43m)\u001b[49m\n",
      "File \u001b[0;32m~/Dev/DeepRL/drl/experiments/train_agent.py:406\u001b[0m, in \u001b[0;36mTrainer.train\u001b[0;34m(self, num_episodes, num_steps, eval_freq, report_freq, eval_episodes, eval_steps, no_ops_evaluation, reset, plot, to_csv)\u001b[0m\n\u001b[1;32m    403\u001b[0m         \u001b[38;5;28mself\u001b[39m\u001b[38;5;241m.\u001b[39m_on_episode_start(i)\n\u001b[1;32m    405\u001b[0m \u001b[38;5;28;01mwhile\u001b[39;00m (\u001b[38;5;28mself\u001b[39m\u001b[38;5;241m.\u001b[39m_if_should_learn()):\n\u001b[0;32m--> 406\u001b[0m     debug_info \u001b[38;5;241m=\u001b[39m \u001b[38;5;28;43mself\u001b[39;49m\u001b[38;5;241;43m.\u001b[39;49m\u001b[43magent\u001b[49m\u001b[38;5;241;43m.\u001b[39;49m\u001b[43mlearn\u001b[49m\u001b[43m(\u001b[49m\u001b[43mdebug\u001b[49m\u001b[38;5;241;43m=\u001b[39;49m\u001b[38;5;28;43;01mTrue\u001b[39;49;00m\u001b[43m)\u001b[49m\n\u001b[1;32m    407\u001b[0m     \u001b[38;5;28mself\u001b[39m\u001b[38;5;241m.\u001b[39moptimization_steps_taken \u001b[38;5;241m+\u001b[39m\u001b[38;5;241m=\u001b[39m \u001b[38;5;241m1\u001b[39m\n\u001b[1;32m    408\u001b[0m     \u001b[38;5;28mself\u001b[39m\u001b[38;5;241m.\u001b[39m_process_debug_info(debug_info)\n",
      "File \u001b[0;32m~/Dev/DeepRL/drl/agents/deep_q_agent.py:198\u001b[0m, in \u001b[0;36mDQAgent.learn\u001b[0;34m(self, debug)\u001b[0m\n\u001b[1;32m    196\u001b[0m \u001b[38;5;28;01mif\u001b[39;00m \u001b[38;5;28mlen\u001b[39m(\u001b[38;5;28mself\u001b[39m\u001b[38;5;241m.\u001b[39mmemory) \u001b[38;5;241m<\u001b[39m \u001b[38;5;28mself\u001b[39m\u001b[38;5;241m.\u001b[39mmin_history:\n\u001b[1;32m    197\u001b[0m     \u001b[38;5;28;01mreturn\u001b[39;00m\n\u001b[0;32m--> 198\u001b[0m debug_info \u001b[38;5;241m=\u001b[39m \u001b[38;5;28;43mself\u001b[39;49m\u001b[38;5;241;43m.\u001b[39;49m\u001b[43m_learn\u001b[49m\u001b[43m(\u001b[49m\u001b[43mdebug\u001b[49m\u001b[38;5;241;43m=\u001b[39;49m\u001b[43mdebug\u001b[49m\u001b[43m)\u001b[49m\n\u001b[1;32m    199\u001b[0m \u001b[38;5;28mself\u001b[39m\u001b[38;5;241m.\u001b[39m_update_network_parameters()\n\u001b[1;32m    200\u001b[0m \u001b[38;5;28;01mreturn\u001b[39;00m debug_info\n",
      "File \u001b[0;32m~/Dev/DeepRL/drl/agents/deep_q_agent.py:250\u001b[0m, in \u001b[0;36mDQAgent._learn\u001b[0;34m(self, debug)\u001b[0m\n\u001b[1;32m    248\u001b[0m loss\u001b[38;5;241m.\u001b[39mbackward()\n\u001b[1;32m    249\u001b[0m \u001b[38;5;66;03m# torch.nn.utils.clip_grad_norm_(self.q_eval.parameters(), 0.5)\u001b[39;00m\n\u001b[0;32m--> 250\u001b[0m \u001b[38;5;28;43mself\u001b[39;49m\u001b[38;5;241;43m.\u001b[39;49m\u001b[43moptimizer\u001b[49m\u001b[38;5;241;43m.\u001b[39;49m\u001b[43mstep\u001b[49m\u001b[43m(\u001b[49m\u001b[43m)\u001b[49m\n\u001b[1;32m    252\u001b[0m \u001b[38;5;66;03m# CONSTRUCTING DEBUG INFO\u001b[39;00m\n\u001b[1;32m    253\u001b[0m debug_info \u001b[38;5;241m=\u001b[39m \u001b[38;5;28;01mNone\u001b[39;00m\n",
      "File \u001b[0;32m~/anaconda3/envs/datascience_py38/lib/python3.8/site-packages/torch/optim/optimizer.py:88\u001b[0m, in \u001b[0;36mOptimizer._hook_for_profile.<locals>.profile_hook_step.<locals>.wrapper\u001b[0;34m(*args, **kwargs)\u001b[0m\n\u001b[1;32m     86\u001b[0m profile_name \u001b[38;5;241m=\u001b[39m \u001b[38;5;124m\"\u001b[39m\u001b[38;5;124mOptimizer.step#\u001b[39m\u001b[38;5;132;01m{}\u001b[39;00m\u001b[38;5;124m.step\u001b[39m\u001b[38;5;124m\"\u001b[39m\u001b[38;5;241m.\u001b[39mformat(obj\u001b[38;5;241m.\u001b[39m\u001b[38;5;18m__class__\u001b[39m\u001b[38;5;241m.\u001b[39m\u001b[38;5;18m__name__\u001b[39m)\n\u001b[1;32m     87\u001b[0m \u001b[38;5;28;01mwith\u001b[39;00m torch\u001b[38;5;241m.\u001b[39mautograd\u001b[38;5;241m.\u001b[39mprofiler\u001b[38;5;241m.\u001b[39mrecord_function(profile_name):\n\u001b[0;32m---> 88\u001b[0m     \u001b[38;5;28;01mreturn\u001b[39;00m \u001b[43mfunc\u001b[49m\u001b[43m(\u001b[49m\u001b[38;5;241;43m*\u001b[39;49m\u001b[43margs\u001b[49m\u001b[43m,\u001b[49m\u001b[43m \u001b[49m\u001b[38;5;241;43m*\u001b[39;49m\u001b[38;5;241;43m*\u001b[39;49m\u001b[43mkwargs\u001b[49m\u001b[43m)\u001b[49m\n",
      "File \u001b[0;32m~/anaconda3/envs/datascience_py38/lib/python3.8/site-packages/torch/autograd/grad_mode.py:27\u001b[0m, in \u001b[0;36m_DecoratorContextManager.__call__.<locals>.decorate_context\u001b[0;34m(*args, **kwargs)\u001b[0m\n\u001b[1;32m     24\u001b[0m \u001b[38;5;129m@functools\u001b[39m\u001b[38;5;241m.\u001b[39mwraps(func)\n\u001b[1;32m     25\u001b[0m \u001b[38;5;28;01mdef\u001b[39;00m \u001b[38;5;21mdecorate_context\u001b[39m(\u001b[38;5;241m*\u001b[39margs, \u001b[38;5;241m*\u001b[39m\u001b[38;5;241m*\u001b[39mkwargs):\n\u001b[1;32m     26\u001b[0m     \u001b[38;5;28;01mwith\u001b[39;00m \u001b[38;5;28mself\u001b[39m\u001b[38;5;241m.\u001b[39mclone():\n\u001b[0;32m---> 27\u001b[0m         \u001b[38;5;28;01mreturn\u001b[39;00m \u001b[43mfunc\u001b[49m\u001b[43m(\u001b[49m\u001b[38;5;241;43m*\u001b[39;49m\u001b[43margs\u001b[49m\u001b[43m,\u001b[49m\u001b[43m \u001b[49m\u001b[38;5;241;43m*\u001b[39;49m\u001b[38;5;241;43m*\u001b[39;49m\u001b[43mkwargs\u001b[49m\u001b[43m)\u001b[49m\n",
      "File \u001b[0;32m~/anaconda3/envs/datascience_py38/lib/python3.8/site-packages/torch/optim/adam.py:141\u001b[0m, in \u001b[0;36mAdam.step\u001b[0;34m(self, closure)\u001b[0m\n\u001b[1;32m    138\u001b[0m             \u001b[38;5;66;03m# record the step after step update\u001b[39;00m\n\u001b[1;32m    139\u001b[0m             state_steps\u001b[38;5;241m.\u001b[39mappend(state[\u001b[38;5;124m'\u001b[39m\u001b[38;5;124mstep\u001b[39m\u001b[38;5;124m'\u001b[39m])\n\u001b[0;32m--> 141\u001b[0m     \u001b[43mF\u001b[49m\u001b[38;5;241;43m.\u001b[39;49m\u001b[43madam\u001b[49m\u001b[43m(\u001b[49m\u001b[43mparams_with_grad\u001b[49m\u001b[43m,\u001b[49m\n\u001b[1;32m    142\u001b[0m \u001b[43m           \u001b[49m\u001b[43mgrads\u001b[49m\u001b[43m,\u001b[49m\n\u001b[1;32m    143\u001b[0m \u001b[43m           \u001b[49m\u001b[43mexp_avgs\u001b[49m\u001b[43m,\u001b[49m\n\u001b[1;32m    144\u001b[0m \u001b[43m           \u001b[49m\u001b[43mexp_avg_sqs\u001b[49m\u001b[43m,\u001b[49m\n\u001b[1;32m    145\u001b[0m \u001b[43m           \u001b[49m\u001b[43mmax_exp_avg_sqs\u001b[49m\u001b[43m,\u001b[49m\n\u001b[1;32m    146\u001b[0m \u001b[43m           \u001b[49m\u001b[43mstate_steps\u001b[49m\u001b[43m,\u001b[49m\n\u001b[1;32m    147\u001b[0m \u001b[43m           \u001b[49m\u001b[43mamsgrad\u001b[49m\u001b[38;5;241;43m=\u001b[39;49m\u001b[43mgroup\u001b[49m\u001b[43m[\u001b[49m\u001b[38;5;124;43m'\u001b[39;49m\u001b[38;5;124;43mamsgrad\u001b[39;49m\u001b[38;5;124;43m'\u001b[39;49m\u001b[43m]\u001b[49m\u001b[43m,\u001b[49m\n\u001b[1;32m    148\u001b[0m \u001b[43m           \u001b[49m\u001b[43mbeta1\u001b[49m\u001b[38;5;241;43m=\u001b[39;49m\u001b[43mbeta1\u001b[49m\u001b[43m,\u001b[49m\n\u001b[1;32m    149\u001b[0m \u001b[43m           \u001b[49m\u001b[43mbeta2\u001b[49m\u001b[38;5;241;43m=\u001b[39;49m\u001b[43mbeta2\u001b[49m\u001b[43m,\u001b[49m\n\u001b[1;32m    150\u001b[0m \u001b[43m           \u001b[49m\u001b[43mlr\u001b[49m\u001b[38;5;241;43m=\u001b[39;49m\u001b[43mgroup\u001b[49m\u001b[43m[\u001b[49m\u001b[38;5;124;43m'\u001b[39;49m\u001b[38;5;124;43mlr\u001b[39;49m\u001b[38;5;124;43m'\u001b[39;49m\u001b[43m]\u001b[49m\u001b[43m,\u001b[49m\n\u001b[1;32m    151\u001b[0m \u001b[43m           \u001b[49m\u001b[43mweight_decay\u001b[49m\u001b[38;5;241;43m=\u001b[39;49m\u001b[43mgroup\u001b[49m\u001b[43m[\u001b[49m\u001b[38;5;124;43m'\u001b[39;49m\u001b[38;5;124;43mweight_decay\u001b[39;49m\u001b[38;5;124;43m'\u001b[39;49m\u001b[43m]\u001b[49m\u001b[43m,\u001b[49m\n\u001b[1;32m    152\u001b[0m \u001b[43m           \u001b[49m\u001b[43meps\u001b[49m\u001b[38;5;241;43m=\u001b[39;49m\u001b[43mgroup\u001b[49m\u001b[43m[\u001b[49m\u001b[38;5;124;43m'\u001b[39;49m\u001b[38;5;124;43meps\u001b[39;49m\u001b[38;5;124;43m'\u001b[39;49m\u001b[43m]\u001b[49m\u001b[43m,\u001b[49m\n\u001b[1;32m    153\u001b[0m \u001b[43m           \u001b[49m\u001b[43mmaximize\u001b[49m\u001b[38;5;241;43m=\u001b[39;49m\u001b[43mgroup\u001b[49m\u001b[43m[\u001b[49m\u001b[38;5;124;43m'\u001b[39;49m\u001b[38;5;124;43mmaximize\u001b[39;49m\u001b[38;5;124;43m'\u001b[39;49m\u001b[43m]\u001b[49m\u001b[43m)\u001b[49m\n\u001b[1;32m    154\u001b[0m \u001b[38;5;28;01mreturn\u001b[39;00m loss\n",
      "File \u001b[0;32m~/anaconda3/envs/datascience_py38/lib/python3.8/site-packages/torch/optim/_functional.py:105\u001b[0m, in \u001b[0;36madam\u001b[0;34m(params, grads, exp_avgs, exp_avg_sqs, max_exp_avg_sqs, state_steps, amsgrad, beta1, beta2, lr, weight_decay, eps, maximize)\u001b[0m\n\u001b[1;32m    103\u001b[0m     denom \u001b[38;5;241m=\u001b[39m (max_exp_avg_sqs[i]\u001b[38;5;241m.\u001b[39msqrt() \u001b[38;5;241m/\u001b[39m math\u001b[38;5;241m.\u001b[39msqrt(bias_correction2))\u001b[38;5;241m.\u001b[39madd_(eps)\n\u001b[1;32m    104\u001b[0m \u001b[38;5;28;01melse\u001b[39;00m:\n\u001b[0;32m--> 105\u001b[0m     denom \u001b[38;5;241m=\u001b[39m \u001b[43m(\u001b[49m\u001b[43mexp_avg_sq\u001b[49m\u001b[38;5;241;43m.\u001b[39;49m\u001b[43msqrt\u001b[49m\u001b[43m(\u001b[49m\u001b[43m)\u001b[49m\u001b[43m \u001b[49m\u001b[38;5;241;43m/\u001b[39;49m\u001b[43m \u001b[49m\u001b[43mmath\u001b[49m\u001b[38;5;241;43m.\u001b[39;49m\u001b[43msqrt\u001b[49m\u001b[43m(\u001b[49m\u001b[43mbias_correction2\u001b[49m\u001b[43m)\u001b[49m\u001b[43m)\u001b[49m\u001b[38;5;241;43m.\u001b[39;49m\u001b[43madd_\u001b[49m\u001b[43m(\u001b[49m\u001b[43meps\u001b[49m\u001b[43m)\u001b[49m\n\u001b[1;32m    109\u001b[0m step_size \u001b[38;5;241m=\u001b[39m lr \u001b[38;5;241m/\u001b[39m bias_correction1\n\u001b[1;32m    110\u001b[0m param\u001b[38;5;241m.\u001b[39maddcdiv_(exp_avg, denom, value\u001b[38;5;241m=\u001b[39m\u001b[38;5;241m-\u001b[39mstep_size)\n",
      "\u001b[0;31mKeyboardInterrupt\u001b[0m: "
     ]
    }
   ],
   "source": [
    "env_fn = lambda: gym.make('LunarLander-v2')\n",
    "env = env_fn()\n",
    "\n",
    "agent = agents.DQAgent(\n",
    "    observation_space=env.observation_space,\n",
    "    action_space=env.action_space,\n",
    "\n",
    "    noisy=True, noisy_use_factorized=False, parametrize=False,\n",
    "    behaviour_policy=policies.BoltzmannPolicy(0.01),\n",
    "    target_policy=policies.BoltzmannPolicy(0.01),\n",
    "\n",
    "    mem_size=500_000, min_history=1_000, batch_size=64,\n",
    "    lr=1e-4, gamma=0.99, n_steps=1, replace_target=100,\n",
    "\n",
    "    device='cpu',\n",
    "    fname='DQAgent_model.h5',\n",
    ")\n",
    "trainer = experiments.Trainer(\n",
    "    agent, env_fn,\n",
    "    samples_per_update=1,\n",
    "    metrics='all',\n",
    "    log_dir=pathlib.Path(ROOT).joinpath(\n",
    "        'logs/LunarLander/Adam_lr=1e-4'),\n",
    "    num_envs=8,\n",
    "    multiprocessing=True\n",
    ")\n",
    "trainer.train(\n",
    "    num_steps=10_000_000, eval_freq=20_000, eval_steps=40_000,\n",
    "    plot=False, to_csv=True\n",
    ")"
   ]
  },
  {
   "cell_type": "code",
   "execution_count": 8,
   "id": "480b5abe-8fad-46b6-a708-87b2dfb02269",
   "metadata": {},
   "outputs": [],
   "source": [
    "del trainer"
   ]
  },
  {
   "cell_type": "code",
   "execution_count": 10,
   "id": "c0ea1529-59eb-47d5-ba14-10fcac8fe4ad",
   "metadata": {},
   "outputs": [
    {
     "data": {
      "text/plain": [
       "0"
      ]
     },
     "execution_count": 10,
     "metadata": {},
     "output_type": "execute_result"
    }
   ],
   "source": [
    "gc.collect()"
   ]
  }
 ],
 "metadata": {
  "kernelspec": {
   "display_name": "Python 3 (ipykernel)",
   "language": "python",
   "name": "python3"
  },
  "language_info": {
   "codemirror_mode": {
    "name": "ipython",
    "version": 3
   },
   "file_extension": ".py",
   "mimetype": "text/x-python",
   "name": "python",
   "nbconvert_exporter": "python",
   "pygments_lexer": "ipython3",
   "version": "3.8.12"
  }
 },
 "nbformat": 4,
 "nbformat_minor": 5
}
